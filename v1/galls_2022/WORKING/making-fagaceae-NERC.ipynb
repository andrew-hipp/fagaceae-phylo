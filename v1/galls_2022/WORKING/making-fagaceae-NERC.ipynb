{
 "cells": [
  {
   "cell_type": "markdown",
   "id": "b1e0757a",
   "metadata": {},
   "source": [
    "# Making the Fagaceae tree\n",
    "2022-12-08\n",
    "\n",
    "First, download the latest spreadsheet to the data folder:\n",
    "https://docs.google.com/spreadsheets/d/1bVx754LDjXC6d8M90yj2rjBO_cB0bFI9/edit?usp=sharing&ouid=103288308547733922084&rtpof=true&sd=true\n",
    "\n",
    "make sure to save it as an xlsx file.\n",
    "\n",
    "Then, you should just be able to run `00.makeTree.R`. Let's see how that goes.\n"
   ]
  },
  {
   "cell_type": "code",
   "execution_count": 1,
   "id": "da9be7ae",
   "metadata": {
    "vscode": {
     "languageId": "r"
    }
   },
   "outputs": [
    {
     "name": "stdout",
     "output_type": "stream",
     "text": [
      "\n",
      "> library(ape)\n",
      "\n",
      "> library(phytools)\n"
     ]
    },
    {
     "name": "stderr",
     "output_type": "stream",
     "text": [
      "Loading required package: maps\n",
      "\n"
     ]
    },
    {
     "name": "stdout",
     "output_type": "stream",
     "text": [
      "\n",
      "> library(magrittr)\n",
      "\n",
      "> library(openxlsx)\n"
     ]
    },
    {
     "name": "stderr",
     "output_type": "stream",
     "text": [
      "Warning message:\n",
      "“package ‘openxlsx’ was built under R version 4.2.1”\n"
     ]
    },
    {
     "name": "stdout",
     "output_type": "stream",
     "text": [
      "\n",
      "> source(\"https://raw.githubusercontent.com/andrew-hipp/morton/master/R/simplePhylo.R\")\n",
      "\n",
      "> now <- format(Sys.time(), \"%y%m%d_%Hh%M\")\n",
      "\n",
      "> datCols <- c(\"Species\", \"trName\", \"position\", \"justification\", \n",
      "+     \"reference\", \"notes\")\n",
      "\n",
      "> tr.gardner <- read.tree(\"../DATA/supertimetree.hyboakconstrained.climateTips.tre\")\n",
      "\n",
      "> dat <- read.xlsx(\"../DATA/Global Cynipini host oak list 20220520.xlsx\", \n",
      "+     1)\n",
      "\n",
      "> dat.nodes <- dat[which(!is.na(dat$tip)), ]\n",
      "\n",
      "> tr.graham <- simplePhylo(tips = dat$trName, tr = tr.gardner, \n",
      "+     nodes = dat.nodes) %>% ladderize\n"
     ]
    },
    {
     "name": "stderr",
     "output_type": "stream",
     "text": [
      "binding new tips; still troublshooting\n",
      "\n",
      "... binding Castanea_crenata to phylogeny\n",
      "\n",
      "... binding Castanopsis_carlesii_var_spinulosa to phylogeny\n",
      "\n",
      "   ... sister to a tip...\n",
      "\n",
      "... binding Chrysolepis_chrysophylla_var_minor to phylogeny\n",
      "\n",
      "   ... sister to a tip...\n",
      "\n",
      "... binding Chrysolepis_sempervirens to phylogeny\n",
      "\n",
      "... binding Lithocarpus_cleistocarpus_var_omeiensis to phylogeny\n",
      "\n",
      "   ... sister to a tip...\n",
      "\n",
      "... binding Lithocarpus_corneus to phylogeny\n",
      "\n",
      "   ... sister to a tip...\n",
      "\n",
      "... binding Lithocarpus_harlandi to phylogeny\n",
      "\n",
      "   ... sister to a tip...\n",
      "\n",
      "... binding Lithocarpus_konishii to phylogeny\n",
      "\n",
      "... binding Lithocarpus_oblanceolatus to phylogeny\n",
      "\n",
      "   ... sister to a tip...\n",
      "\n",
      "... binding Lithocarpus_brevicaudatus to phylogeny\n",
      "\n",
      "... binding Lithocarpus_megalophyllus to phylogeny\n",
      "\n",
      "   ... sister to a tip...\n",
      "\n",
      "... binding Quercus_aliena_var_acutiserrata to phylogeny\n",
      "\n",
      "   ... sister to a tip...\n",
      "\n",
      "   ... using smaller value for distUp; branch too short...\n",
      "\n",
      "... binding Quercus_aquifolioides to phylogeny\n",
      "\n",
      "... binding Quercus_gambelii to phylogeny\n",
      "\n",
      "   ... sister to a tip...\n",
      "\n",
      "... binding Quercus_gambleana to phylogeny\n",
      "\n",
      "   ... sister to a tip...\n",
      "\n",
      "... binding Quercus_longinux to phylogeny\n",
      "\n",
      "   ... sister to a tip...\n",
      "\n",
      "... binding Quercus_morii to phylogeny\n",
      "\n",
      "   ... sister to a tip...\n",
      "\n",
      "... binding Quercus_salicifolia to phylogeny\n",
      "\n",
      "   ... sister to a tip...\n",
      "\n",
      "   ... using smaller value for distUp; branch too short...\n",
      "\n",
      "... binding Quercus_spinosa to phylogeny\n",
      "\n",
      "... binding Quercus_splendens to phylogeny\n",
      "\n",
      "... binding Quercus_undata to phylogeny\n",
      "\n",
      "... binding Quercus_wutaishanica to phylogeny\n",
      "\n",
      "   ... sister to a tip...\n",
      "\n",
      "... binding Quercus_frutex to phylogeny\n",
      "\n",
      "*** You are missing a few names in the tree ***\n",
      "\n"
     ]
    },
    {
     "name": "stdout",
     "output_type": "stream",
     "text": [
      "[1] \"Castanopsis_platyacantha\"                   \n",
      "[2] \"Lithocarpus_cleistocarpus_var_cleistocarpus\"\n",
      "[3] \"Quercus_hypophaea\"                          \n",
      "[4] \"Quercus_tarokoensis\"                        \n",
      "***************************************************************\n",
      "*                          Note:                              *\n",
      "*    force.ultrametric does not include a formal method to    *\n",
      "*    ultrametricize a tree & should only be used to coerce    *\n",
      "*   a phylogeny that fails is.ultramtric due to rounding --   *\n",
      "*    not as a substitute for formal rate-smoothing methods.   *\n",
      "***************************************************************\n",
      "\n",
      "> write.tree(tr.graham, paste(\"../OUT/tr.graham_\", now, \n",
      "+     \".tre\", sep = \"\"))\n",
      "\n",
      "> pdf(paste(\"../OUT/tr.graham_\", now, \".pdf\", sep = \"\"), \n",
      "+     8.5, 11)\n",
      "\n",
      "> plot(tr.graham, cex = 0.4)\n",
      "\n",
      "> dev.off()\n",
      "png \n",
      "  2 \n",
      "\n",
      "> dat.out <- dat[which(!dat$trName %in% tr.graham$tip.label), \n",
      "+     datCols]\n",
      "\n",
      "> write.csv(dat.out, paste(\"../OUT/tr.graham.missingTips_\", \n",
      "+     now, \".csv\", sep = \"\"))\n"
     ]
    }
   ],
   "source": [
    "source('../SCRIPTS/00.makeTree.R', echo = T)"
   ]
  }
 ],
 "metadata": {
  "kernelspec": {
   "display_name": "R",
   "language": "R",
   "name": "ir"
  },
  "language_info": {
   "codemirror_mode": "r",
   "file_extension": ".r",
   "mimetype": "text/x-r-source",
   "name": "R",
   "pygments_lexer": "r",
   "version": "4.1.3"
  }
 },
 "nbformat": 4,
 "nbformat_minor": 5
}
